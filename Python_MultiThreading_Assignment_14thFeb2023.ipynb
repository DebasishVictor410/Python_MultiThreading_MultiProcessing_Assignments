{
 "cells": [
  {
   "cell_type": "markdown",
   "id": "4fe661ce",
   "metadata": {},
   "source": [
    "### Q1. What is multithreading in python? Name the module used to handle threads in python."
   ]
  },
  {
   "cell_type": "code",
   "execution_count": 1,
   "id": "5cacd1aa",
   "metadata": {},
   "outputs": [],
   "source": [
    "#### Running multiple programs at a time is known as multhreading\n",
    "#### concurrently running of several processes is called multithreading\n",
    "#### Multiple threads within a process share the same data \n",
    "#### and can thus share information \n",
    "#### by this they can communicate more easily \n",
    "#### it would not be easy if they were separate processes.\n",
    "#### Threads, also simple processes which do not require much memory \n",
    "#### A thread has a start, an execution sequence, and an end. \n",
    "#### It has an instruction pointer(IP) that maintains track of process\n",
    "#### If we want to multiple process at the same time we must make asleep\n",
    "#### the first thread for some time and on that time we can run another\n",
    "#### process which is also called another thread\n",
    "#### That is called multithreading\n",
    "\n",
    "#### threading module is used to handle threads \n",
    "#### as thread module is depreciated \n",
    "#### from threading we use Thread function to utilize threading\n",
    "\n"
   ]
  },
  {
   "cell_type": "markdown",
   "id": "812dd603",
   "metadata": {},
   "source": [
    "### Q2. Why threading  module is used? Write the use of these following function:\n",
    "#### 1.activeCount() \n",
    "#### 2.currentThread() \n",
    "#### 3.enumerate"
   ]
  },
  {
   "cell_type": "code",
   "execution_count": 2,
   "id": "5db9686d",
   "metadata": {},
   "outputs": [],
   "source": [
    "#### Threads allow a program to run more efficiently \n",
    "#### by allowing it to do multiple things at once.\n",
    "#### Threads can be used in the background to perform complex tasks \n",
    "#### we can do that without hampering the main program\n",
    "#### Threads enable parallelism to improve application performance. \n",
    "#### its a way to improving the operating system performance \n",
    "#### it does so by reducing overhead. \n",
    "#### A thread is equivalent to a classical process.\n",
    "#### Each thread contains a single process \n",
    "#### Thread manipulates our program or process in a systamatic way\n",
    "\n",
    "\n",
    "#### activeCount()\n",
    "#### ita method which belongs to multithreading module\n",
    "#### we use it to know the live threads\n",
    "#### Actually it returns the number of thread objects that are active.\n",
    "#### that means working threads quantity is returned by this function\n",
    "\n",
    "#### currentThread()\n",
    "#### its also a method which actually works on current thread\n",
    "#### it a thread from main thread\n",
    "#### actually every python program starts with a main thread\n",
    "#### when we execute program then it runs on main thread\n",
    "#### current_thread() is an inbuilt method of the threading module \n",
    "#### It is used to return the current thread object\n",
    "#### which corresponds to the caller's current working thread\n",
    "\n",
    "#### enumerate()\n",
    "#### its belongs to threading module\n",
    "#### in our process we use or may use multiple threads\n",
    "#### this funtion returns a list of all thread objects \n",
    "#### that are currently using by the user\n",
    "#### that means current active threads are returned by this function"
   ]
  },
  {
   "cell_type": "markdown",
   "id": "5130feb4",
   "metadata": {},
   "source": [
    "### Q3. Explain the following functions\n",
    "#### 1.run()\n",
    "#### 2.start()\n",
    "#### 3.join()\n",
    "#### 4.isAlive()"
   ]
  },
  {
   "cell_type": "code",
   "execution_count": 3,
   "id": "9a3b0f89",
   "metadata": {},
   "outputs": [],
   "source": [
    "#### run()\n",
    "#### its a method\n",
    "#### when we creates main thread then it started \n",
    "#### and if we want to create another threads then run() function executes\n",
    "#### actually when we run threads then it runs by run() method \n",
    "#### we can say that is the entry point for a thread.\n",
    "\n",
    "#### start()\n",
    "#### its also a method\n",
    "#### when main thread is executed then firstly it start() method is called\n",
    "#### actually this method initiates a thread by calling the run() method.\n",
    "\n",
    "#### join()\n",
    "#### actully when every programs starts then it runs on main() thread\n",
    "#### when we want to terminate any thread any join() method is called\n",
    "#### for termination we use it\n",
    "\n",
    "#### isAlive()\n",
    "#### when we run any program then we run multiple threads\n",
    "#### after execution of any partial process we terminate that thread\n",
    "#### isAlive() method is uesd ti know about the state of any thread\n",
    "#### we can know whether its active or its existing or not"
   ]
  },
  {
   "cell_type": "markdown",
   "id": "c46287ce",
   "metadata": {},
   "source": [
    "### Q4. Write a python program to create two threads. Thread one must print the list of squares and thread two must print the list of cubes"
   ]
  },
  {
   "cell_type": "code",
   "execution_count": 16,
   "id": "c84f9f8a",
   "metadata": {},
   "outputs": [],
   "source": [
    "import threading"
   ]
  },
  {
   "cell_type": "code",
   "execution_count": 9,
   "id": "4788f905",
   "metadata": {},
   "outputs": [
    {
     "name": "stdout",
     "output_type": "stream",
     "text": [
      "1\n",
      "4\n",
      "9\n",
      "16\n",
      "25\n",
      "36\n",
      "49\n",
      "64\n",
      "81\n"
     ]
    }
   ],
   "source": [
    "lists=list(range(1,10))\n",
    "def square(x):\n",
    "    print(x**2)\n",
    "thread_1= [threading.Thread(target=square, args=(x,)) for x in lists]\n",
    "for t in thread_1:\n",
    "    t.start()\n"
   ]
  },
  {
   "cell_type": "code",
   "execution_count": 21,
   "id": "5b126347",
   "metadata": {},
   "outputs": [
    {
     "name": "stdout",
     "output_type": "stream",
     "text": [
      "1\n",
      "8\n",
      "27\n",
      "64\n",
      "125\n",
      "216\n",
      "343\n",
      "512\n",
      "729\n"
     ]
    }
   ],
   "source": [
    "lists=list(range(1,10))\n",
    "def cube(x):\n",
    "    print(x**3)\n",
    "thread_2= [threading.Thread(target=cube, args=(x,)) for x in lists]\n",
    "for t in thread_2:\n",
    "    t.start()"
   ]
  },
  {
   "cell_type": "markdown",
   "id": "f4302de6",
   "metadata": {},
   "source": [
    "### Q5. State advantages and disadvantages of multithreading"
   ]
  },
  {
   "cell_type": "code",
   "execution_count": 22,
   "id": "4f6048a3",
   "metadata": {},
   "outputs": [],
   "source": [
    "#### advantages\n",
    "#### Resource utilization is effective\n",
    "#### Sharing resources saves time and costing\n",
    "#### Because of parallelism, multiprocessor architecture has arrived.\n",
    "#### by using that architecture we can save time\n",
    "#### multiple threads communicate with each other more easily \n",
    "#### as all of those threads belongs to same process\n",
    "#### memory usage is limited because of sharing\n",
    "#### is is used servers and graphucal user interfaces\n",
    "#### its more responsible\n",
    "\n",
    "\n",
    "#### disadvantages\n",
    "#### increase complexity of codes\n",
    "#### resources must be shared between or among threads\n",
    "#### dubugging is difficult\n",
    "#### making a cpu multithreaded is very expensive"
   ]
  },
  {
   "cell_type": "markdown",
   "id": "0251bc37",
   "metadata": {},
   "source": [
    "### Q6. Explain deadlocks and race conditions."
   ]
  },
  {
   "cell_type": "code",
   "execution_count": 23,
   "id": "766a455f",
   "metadata": {},
   "outputs": [],
   "source": [
    "#### deadlock\n",
    "#### A deadlock is a concurrency failure\n",
    "#### where a tmultiple threads wait for a condition that never occurs.\n",
    "#### The means those threads are unable to progress and stuck\n",
    "#### then we terminate forcefully.\n",
    "#### There are many ways for encountering a deadlock \n",
    "#### we saw this problem in concurrency\n",
    "#### actually they are bug in concurrency programming\n",
    "#### cause 1: A thread that waits on itself \n",
    "#### cause 2: Threads that wait on each other for resource\n",
    "#### Thread fails to release a resource \n",
    "#### Threads that acquire locks in various orders\n",
    "#### a thread waits to acheive a mutex lock that it has already received \n",
    "#### Waiting for condition by itself.\n",
    "#### Waiting for an event which is define by itself.\n",
    "#### Waiting releasing of a semaphore by itself.\n",
    "#### Suppose 3 threads are there\n",
    "#### thread a is waiting for b and vise versa\n",
    "#### thread c is waiting for b and vise versa\n",
    "#### thread 1 receives a lock1 , waiting for lock2\n",
    "#### thread 2 receives lock2 , waiting for holding lock1\n",
    "#### if threads failed in releasing locks\n",
    "#### if threads fails to release its own created event\n",
    "#### fails to release samaphore\n",
    "\n",
    "\n",
    "#### race condition\n",
    "#### When two or more threads try to access same data\n",
    "#### or use some shared resource at the same time\n",
    "#### ita a problem of concurrent/parallel programming\n",
    "#### suppose x and y are two variables\n",
    "#### there is a global variable which is 10\n",
    "#### that gobal variable is shared by x and y both\n",
    "#### if concurrently or at a same time x and y tries to update that \n",
    "#### shared value 10 then race condition arries\n",
    "#### suppose at the same x wants to add 5\n",
    "#### and y wants to substract 8\n",
    "#### then it occurs\n",
    "#### because then there creates an inconsistancy problem"
   ]
  },
  {
   "cell_type": "code",
   "execution_count": null,
   "id": "b57b51ff",
   "metadata": {},
   "outputs": [],
   "source": []
  }
 ],
 "metadata": {
  "kernelspec": {
   "display_name": "Python 3 (ipykernel)",
   "language": "python",
   "name": "python3"
  },
  "language_info": {
   "codemirror_mode": {
    "name": "ipython",
    "version": 3
   },
   "file_extension": ".py",
   "mimetype": "text/x-python",
   "name": "python",
   "nbconvert_exporter": "python",
   "pygments_lexer": "ipython3",
   "version": "3.9.13"
  }
 },
 "nbformat": 4,
 "nbformat_minor": 5
}
