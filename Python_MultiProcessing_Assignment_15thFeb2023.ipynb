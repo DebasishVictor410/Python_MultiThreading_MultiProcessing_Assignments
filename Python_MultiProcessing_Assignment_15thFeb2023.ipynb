{
 "cells": [
  {
   "cell_type": "markdown",
   "id": "d7a86375-09af-46ab-a734-4c4c60e63cdc",
   "metadata": {},
   "source": [
    "### Q1. What is multiprocessing in python? Why is it useful? "
   ]
  },
  {
   "cell_type": "code",
   "execution_count": 15,
   "id": "7a9321a9-1e13-4614-a30d-2f1651933ce9",
   "metadata": {},
   "outputs": [],
   "source": [
    "#### Multiprocessing\n",
    "#### The system can execute numerous processes at once is called multiprocessing\n",
    "#### It is a built-in multiprocessing library. \n",
    "#### It will make it possible to divide apps into smaller, independent threads. \n",
    "#### The operating system can then assign each of these threads or processes to a processor or several processors\n",
    "#### So they can execute concurrently, enhancing performance and effectiveness overall.\n",
    "#### The main purpose of MultiProcessing is to utilize the CPU properly\n",
    "\n",
    "\n",
    "#### Its importance\n",
    "#### It becomes difficult to perform several processes on a single processor. \n",
    "#### To keep up with the growing number of processes, the processor will have to pause the current one and switch to the next.\n",
    "#### As a result, it will have to stop each activity, which will lower performance.\n",
    "#### If we use use multiprocessing we can divide our tasks to different processors\n",
    "#### Suppose, I have to do my home-cleanning work, cooking works, office works at once at the same time\n",
    "#### Then if i want to do that at the same time then i must stop for some time then swith to another task and this process will go on\n",
    "#### But instead of this if there are extra two person for doing other two works the it would be be easy\n",
    "#### We can utilize the time efficiently\n",
    "#### The parallelly do multiple works at a time\n",
    "#### So for this MultiProcessing is very important"
   ]
  },
  {
   "cell_type": "markdown",
   "id": "4949d3e9-4ead-4b03-b968-0d61b5d2383f",
   "metadata": {},
   "source": [
    "### Q2. What are the differences between multiprocessing and multithreading?"
   ]
  },
  {
   "cell_type": "code",
   "execution_count": 16,
   "id": "7f4c6200-9baa-4953-ab23-f9697baed006",
   "metadata": {},
   "outputs": [],
   "source": [
    "#### According to its definition, multithreading refers to a processor's capacity to handle several threads\n",
    "#### Where each threads run a paricular task\n",
    "#### The term \"multiprocessing\" describes a system's capacity to use many processors in simultaneously, each of which is capable of managing one or more threads.\n",
    "#### Multithreading is useful for IO-bound processes\n",
    "#### Such as reading files from a network or database since each thread can run the IO-bound process concurrently. \n",
    "#### Multiprocessing is useful for CPU-bound processes, such as computationally heavy tasks since it will benefit from having multiple processors\n",
    "#### Here concurrently means running tasks at onee but one by one\n",
    "#### Parallellism means parallelly runs multiple tasks\n",
    "#### Multithreading follows concurrent execution\n",
    "#### MultiProcessing follows parallel execution"
   ]
  },
  {
   "cell_type": "markdown",
   "id": "be08c3c1-3458-41b6-8d90-7e14676dcfe7",
   "metadata": {},
   "source": [
    "#### Q3. Write a python code to create a process using the multiprocessing module."
   ]
  },
  {
   "cell_type": "code",
   "execution_count": 17,
   "id": "6779c2dc-596c-4d4a-a6f4-2c4c87c3d88a",
   "metadata": {},
   "outputs": [
    {
     "name": "stdout",
     "output_type": "stream",
     "text": [
      "this is my main prog\n",
      "this is my multiprocessing prog\n"
     ]
    }
   ],
   "source": [
    "import multiprocessing\n",
    "def test():\n",
    "    print(\"this is my multiprocessing prog\")\n",
    "\n",
    "if __name__ == '__main__':\n",
    "    m = multiprocessing.Process(target=test)\n",
    "    print(\"this is my main prog\")\n",
    "    m.start()\n",
    "    m.join()\n"
   ]
  },
  {
   "cell_type": "markdown",
   "id": "7a55e6a2-43a7-4093-836a-3f54cac1ba66",
   "metadata": {},
   "source": [
    "### Q4. What is a multiprocessing pool in python? Why is it used?"
   ]
  },
  {
   "cell_type": "code",
   "execution_count": 18,
   "id": "36f8e6cd-90f4-43b0-8490-8d6b6a8e0128",
   "metadata": {},
   "outputs": [],
   "source": [
    "#### Multiprocessing's Pool class is capable of managing a huge number of processes. \n",
    "#### Because it can queue up jobs, you can run numerous processes at once. \n",
    "#### Contrary to the Process class, which allots memory to all the processes, the memory is solely assigned to the processes that are now running. \n",
    "#### The Pool class spawns the processes based on the number of worker processes that should be present in the pool."
   ]
  },
  {
   "cell_type": "markdown",
   "id": "79026a73-408f-4641-b3d2-359c2ce3d337",
   "metadata": {},
   "source": [
    "### Q5. How can we create a pool of worker processes in python using the multiprocessing module?"
   ]
  },
  {
   "cell_type": "code",
   "execution_count": 19,
   "id": "404ca8b9-96ac-4cde-96ce-cb243a96d682",
   "metadata": {},
   "outputs": [
    {
     "name": "stdout",
     "output_type": "stream",
     "text": [
      "[1, 4, 9, 16, 25, 36, 49, 64, 81]\n"
     ]
    }
   ],
   "source": [
    "#### Pool it is built, a process \n",
    "#### pool can be configured, which will get the advantages of MultiProcessing\n",
    "#### Using techniques like apply(), we can send one-time jobs to the process pool\n",
    "#### or we can use functions like map() to apply the same function to an iterable of things. \n",
    "#### Once tasks have been dispatched, their results can be accessed synchronously \n",
    "\n",
    "#### example\n",
    "import multiprocessing\n",
    "def square(n):\n",
    "    return n**2\n",
    "\n",
    "if __name__ == '__main__':\n",
    "    with multiprocessing.Pool(processes=4) as pool : \n",
    "        out = pool.map(square , [1,2,3,4,5,6,7,8,9])\n",
    "        print(out)"
   ]
  },
  {
   "cell_type": "markdown",
   "id": "8529027a-f7fc-46ce-a04f-e6a847eb5925",
   "metadata": {},
   "source": [
    "### Q6. Write a python program to create 4 processes, each process should print a different number using the multiprocessing module in python."
   ]
  },
  {
   "cell_type": "code",
   "execution_count": 20,
   "id": "4fa8fa05-3b0f-48b9-9b62-d6877f11ad2f",
   "metadata": {},
   "outputs": [
    {
     "name": "stdout",
     "output_type": "stream",
     "text": [
      "24\n",
      "576\n",
      "10\n",
      "24\n"
     ]
    }
   ],
   "source": [
    "import multiprocessing\n",
    "from functools import reduce\n",
    "\n",
    "\n",
    "def square(numbers):\n",
    "    res=1\n",
    "    for i in numbers:\n",
    "        res=res*i\n",
    "    print(res)\n",
    "\n",
    "\n",
    "def cube(numbers):\n",
    "    res=1\n",
    "    for i in numbers:\n",
    "        res=res*i*i\n",
    "    print(res)\n",
    "\n",
    "def red_add(numbers):\n",
    "    res=reduce(lambda x,y:x+y,numbers)\n",
    "    \n",
    "    print(res)\n",
    "\n",
    "def red_mul(numbers):\n",
    "    res=reduce(lambda x,y:x*y,numbers)\n",
    "    print(res)\n",
    "    \n",
    "\n",
    "if __name__ == \"__main__\":\n",
    "\n",
    "    arr = [1, 2, 3, 4]\n",
    "    p_1 = multiprocessing.Process(target=square, args=(arr,))\n",
    "    \n",
    "    p_2 = multiprocessing.Process(target=cube, args=(arr,))\n",
    "    \n",
    "    p_3 = multiprocessing.Process(target=red_add, args=(arr,))\n",
    "    \n",
    "    p_4 = multiprocessing.Process(target=red_mul, args=(arr,))\n",
    "    \n",
    "    \n",
    "    p_1.start()\n",
    "    p_2.start()\n",
    "    \n",
    "    p_3.start()\n",
    "    p_4.start()\n",
    "    \n",
    "    p_1.join()\n",
    "    p_2.join()\n",
    "    p_3.join()\n",
    "    p_4.join()\n",
    "    "
   ]
  },
  {
   "cell_type": "code",
   "execution_count": null,
   "id": "59cad878-0fce-4555-9f7a-cf5be90840d7",
   "metadata": {},
   "outputs": [],
   "source": []
  }
 ],
 "metadata": {
  "kernelspec": {
   "display_name": "Python 3 (ipykernel)",
   "language": "python",
   "name": "python3"
  },
  "language_info": {
   "codemirror_mode": {
    "name": "ipython",
    "version": 3
   },
   "file_extension": ".py",
   "mimetype": "text/x-python",
   "name": "python",
   "nbconvert_exporter": "python",
   "pygments_lexer": "ipython3",
   "version": "3.10.8"
  }
 },
 "nbformat": 4,
 "nbformat_minor": 5
}
